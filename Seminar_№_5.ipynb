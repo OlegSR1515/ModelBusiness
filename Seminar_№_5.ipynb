{
 "cells": [
  {
   "cell_type": "markdown",
   "id": "4c67cd32",
   "metadata": {},
   "source": [
    "<!--<div align=\"center\">Семинар № 2-->\n",
    "\n",
    "<div align=\"center\"><font color=#4682B4 size=4 face=\n",
    "                          \"arial black\"><em><strong>Семинар № 5</strong></em></font></div>"
   ]
  },
  {
   "attachments": {},
   "cell_type": "markdown",
   "id": "231506cf",
   "metadata": {},
   "source": [
    "<div class=\"alert alert-block alert-info\"><em>\n",
    "<b>Задание. </b><br>Урок 5. Основные нотации описания бизнес-процессов Часть 1<br>\n",
    "Отрисуйте любой процесс в нотации BPMN.\n",
    "\n",
    "Можно использовать:\n",
    "- Отправка посылки почтой России\n",
    "- Заказ товара с маркетплейса\n",
    "- Подготовка рекламной кампании\n",
    "- Планирование ежемесячного бюджета\n",
    "- Выдача справки сотруднику\n",
    "- Любой другой свой процесс\n",
    "</em></div>"
   ]
  },
  {
   "cell_type": "markdown",
   "id": "c3595c77",
   "metadata": {},
   "source": [
    "<img src=\"ДЗ_5.png\" width=\"1000\" height=\"200\">"
   ]
  },
  {
   "cell_type": "markdown",
   "id": "2ed442fd",
   "metadata": {},
   "source": [
    "***"
   ]
  }
 ],
 "metadata": {
  "kernelspec": {
   "display_name": "Python 3",
   "language": "python",
   "name": "python3"
  },
  "language_info": {
   "codemirror_mode": {
    "name": "ipython",
    "version": 3
   },
   "file_extension": ".py",
   "mimetype": "text/x-python",
   "name": "python",
   "nbconvert_exporter": "python",
   "pygments_lexer": "ipython3",
   "version": "3.8.8"
  }
 },
 "nbformat": 4,
 "nbformat_minor": 5
}
