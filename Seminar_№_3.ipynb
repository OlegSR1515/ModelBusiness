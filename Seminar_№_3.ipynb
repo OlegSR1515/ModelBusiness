{
 "cells": [
  {
   "cell_type": "markdown",
   "id": "4c67cd32",
   "metadata": {},
   "source": [
    "<!--<div align=\"center\">Семинар № 2-->\n",
    "\n",
    "<div align=\"center\"><font color=#4682B4 size=4 face=\n",
    "                          \"arial black\"><em><strong>Семинар № 3</strong></em></font></div>"
   ]
  },
  {
   "cell_type": "markdown",
   "id": "231506cf",
   "metadata": {},
   "source": [
    "<div class=\"alert alert-block alert-info\"><em>\n",
    "<b>Задание. </b><br>\n",
    "    Выберите процесс нулевого уровня и декомпозируйте до операций второго подпроцесса из него.<br>\n",
    "Ориентируйтесь на пример схемы, приведенной в презентации к занятию.\n",
    "</em></div>"
   ]
  },
  {
   "cell_type": "markdown",
   "id": "8380ac0b",
   "metadata": {},
   "source": [
    "<img src=\"2.png\" width=\"800\" height=\"150\">"
   ]
  },
  {
   "cell_type": "markdown",
   "id": "2bbbe034",
   "metadata": {},
   "source": [
    "***"
   ]
  }
 ],
 "metadata": {
  "kernelspec": {
   "display_name": "Python 3",
   "language": "python",
   "name": "python3"
  },
  "language_info": {
   "codemirror_mode": {
    "name": "ipython",
    "version": 3
   },
   "file_extension": ".py",
   "mimetype": "text/x-python",
   "name": "python",
   "nbconvert_exporter": "python",
   "pygments_lexer": "ipython3",
   "version": "3.8.8"
  }
 },
 "nbformat": 4,
 "nbformat_minor": 5
}
