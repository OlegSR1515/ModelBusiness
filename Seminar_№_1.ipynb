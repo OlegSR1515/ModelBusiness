{
 "cells": [
  {
   "cell_type": "markdown",
   "id": "4c67cd32",
   "metadata": {},
   "source": [
    "<!--<div align=\"center\">Семинар № 2-->\n",
    "\n",
    "<div align=\"center\"><font color=#4682B4 size=4 face=\n",
    "                          \"arial black\"><em><strong>Семинар № 1</strong></em></font></div>"
   ]
  },
  {
   "cell_type": "markdown",
   "id": "231506cf",
   "metadata": {},
   "source": [
    "<div class=\"alert alert-block alert-info\"><em>\n",
    "<b>Задание 1 . </b>Выберите любой продукт.<br>\n",
    "Например ваш продукт<br>\n",
    "- ozon.ru<br>\n",
    "- citilink.ru<br>\n",
    "- telegram<br>    \n",
    "Какие бы ключевые метрики вы выделили? Опишите почему вы выбрали именно их и можно ли их измерить.\n",
    "</em></div>"
   ]
  },
  {
   "cell_type": "markdown",
   "id": "72a82ebd",
   "metadata": {},
   "source": [
    "В качестве примера возмём гипотетический сайт готовой еды.<br>\n",
    "На нашем сайте польэователь может выбрать готовое блюдо по фото, оплатить заказ и оформить доставку.<br><br>"
   ]
  },
  {
   "cell_type": "markdown",
   "id": "503d02d1",
   "metadata": {},
   "source": [
    "Некоторые метрики, напрямую или косвенно, влияющие на финансовые показатели:\n",
    "\n",
    "1. <span style='font-size:16px; background:White; color:#3CB371'><b>MRR (monthly recurring revenue)</b></span> — месячная возобновляемая выручка;<br>\n",
    "2. <span style='font-size:16px; background:White; color:#3CB371'><b>CAC (customer acquisition costs)</b></span> — стоимость привлечения клиента:<br> полная стоимость привлечения новых пользователей, выраженная в расчете на одного пользователя;<br>\n",
    "3. <span style='font-size:16px; background:White; color:#3CB371'><b>Total visit (число посещений)</b></span> — эта метрика показывает общий трафик пользователей на сайт;<br>\n",
    "4. <span style='font-size:16px; background:White; color:#3CB371'><b>TSS (Time Spent on Site)</b></span> — время, проведенное на сайте;<br>\n",
    "5. <span style='font-size:16px; background:White; color:#3CB371'><b>CRR (Customer Retention Rate )</b></span> — коэффициент удержания клиентов.<br> Показывают процент клиентов, которые возвращаются для совершения повторных покупок;<br>\n",
    "6. <span style='font-size:16px; background:White; color:#3CB371'><b>AOV (Average Order Value)</b></span> — средний чек. Показывает средний размер или сумму заказа клиентов;<br>\n",
    "7. <span style='font-size:16px; background:White; color:#3CB371'><b>CR (Conversion Rate)</b></span> — коэффициент конверсии.<br> Метрика, вычисляемая в процентах, показывает, сколько пользователей совершили конверсионное действие ;<br>\n",
    "8. <span style='font-size:16px; background:White; color:#3CB371'><b>Bounce Rate</b></span> — количество отказов (в процентах).<br> Равно проценту людей, которые провели на сайте меньше 15 секунд;<br>\n",
    "9. <span style='font-size:16px; background:White; color:#3CB371'><b>LTV (Lifetime Value)</b></span>  — пожизненная ценность клиента.<br> Метрика показывает всю прибыль от клиента за весь период его взаимодействия с сайтом.<br><br>\n",
    "Все метрики можно измерить количественно.\n",
    "\n",
    "***"
   ]
  },
  {
   "cell_type": "markdown",
   "id": "dd89360d",
   "metadata": {},
   "source": [
    "<div class=\"alert alert-block alert-info\"><em>\n",
    "<b>Задание 2.</b><br>\n",
    "Сформулируйте 5-10 гипотез для выбранного продукта.\n",
    "</em></div>"
   ]
  },
  {
   "cell_type": "markdown",
   "id": "15fd203f",
   "metadata": {},
   "source": [
    "Для полноценного фрмулирования гипотез на принципах S.M.A.R.T. на этом этапе недостаточно знаний и опыта.<br> \n",
    "Впрочем, задание такой конкретики не требует.<br>\n",
    "Позтому ограничимся качественным описанием ожидаемых результатов:<br>\n",
    "любая хорошая гипотеза должна положительно влиять не только на конкретную метрику,<br> а и на общие метрики финансовых результатов, увеличивая их.<br><br>\n",
    "Можно, например, сформулировать такие гипотезы, которые улучшат метрики:\n",
    "\n",
    "1. Добавить к карточке блюда \"вкусное\" описание ингридиентов​;\n",
    "2. Дать возможность клиенту оплачивать наличными и/или при получении заказа​;\n",
    "3. Предусмотреть скидки  за последующие заказы;\n",
    "4. Предусмотреть скидки для заказа комплексного обеда; \n",
    "5. Появление  опросника, где указаны 3-4 причины выхода с сайта;\n",
    "6. Внедрить интересную анимацию при покупке;\n",
    "7. Разместить на сайте страницу-репортаж из кухни и показать процесс готовки;\n",
    "8. Разместить на карточке блюда ссылку на отзывы клиентов о нём; \n",
    "9. Регулярно рассылать клиентам по почте и в СМС акции  и новые блюда;\n",
    "10. Сделать регулярные акции-скидки на разные блюда.\n",
    "\n",
    "***"
   ]
  }
 ],
 "metadata": {
  "kernelspec": {
   "display_name": "Python 3",
   "language": "python",
   "name": "python3"
  },
  "language_info": {
   "codemirror_mode": {
    "name": "ipython",
    "version": 3
   },
   "file_extension": ".py",
   "mimetype": "text/x-python",
   "name": "python",
   "nbconvert_exporter": "python",
   "pygments_lexer": "ipython3",
   "version": "3.8.8"
  }
 },
 "nbformat": 4,
 "nbformat_minor": 5
}
