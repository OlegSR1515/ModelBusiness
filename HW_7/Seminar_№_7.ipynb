{
 "cells": [
  {
   "cell_type": "markdown",
   "id": "4c67cd32",
   "metadata": {},
   "source": [
    "<!--<div align=\"center\">Семинар № 2-->\n",
    "\n",
    "<div align=\"center\"><font color=#4682B4 size=4 face=\n",
    "                          \"arial black\"><em><strong>Семинар № 7</strong></em></font></div>"
   ]
  },
  {
   "cell_type": "markdown",
   "id": "231506cf",
   "metadata": {},
   "source": [
    "<div class=\"alert alert-block alert-info\"><em>\n",
    "<b>Задание. <br>Урок 7. Анализ: выявление проблемных мест, bottlenecks и зон для развития.</b><br>\n",
    "Выберите любой процесс и выпишите все его ключевые показатели эффективности<br>\n",
    "    (по примеру работы на семинаре)<br>\n",
    "    \n",
    "Можно использовать:<br>\n",
    "- Отправка посылки почтой России\n",
    "- Заказ товара с маркетплейса\n",
    "- Подготовка рекламной кампании\n",
    "- Планирование ежемесячного бюджета\n",
    "- Выдача справки сотруднику\n",
    "- Любой другой свой процесс\n",
    "</em></div>"
   ]
  },
  {
   "attachments": {},
   "cell_type": "markdown",
   "id": "258c29a8",
   "metadata": {},
   "source": [
    "## Стоимость и ключевые показатели эффективности процесса \n",
    "## «Изготовление заглушки и доставка заказчику»\n",
    " ### по всем типам показателей.\n",
    " \n",
    " ### Трудозатраты\n",
    "\n"
   ]
  },
  {
   "cell_type": "markdown",
   "id": "89755431",
   "metadata": {},
   "source": [
    "<img src=\"ДЗ_7_1.png\" width=\"800\" height=\"1200\">"
   ]
  },
  {
   "cell_type": "markdown",
   "id": "1f86e881",
   "metadata": {},
   "source": [
    "### Материальные затраты\n"
   ]
  },
  {
   "cell_type": "markdown",
   "id": "0c5d3388",
   "metadata": {},
   "source": [
    "<img src=\"ДЗ_7_23.png\" width=\"330\" height=\"200\">"
   ]
  },
  {
   "cell_type": "markdown",
   "id": "74376b11",
   "metadata": {},
   "source": [
    "### Показатели качества\n"
   ]
  },
  {
   "cell_type": "markdown",
   "id": "13d2af45",
   "metadata": {},
   "source": [
    "<img src=\"ДЗ_7_31.png\" width=\"300\" height=\"200\">"
   ]
  },
  {
   "cell_type": "markdown",
   "id": "cd8e3610",
   "metadata": {},
   "source": [
    "***"
   ]
  }
 ],
 "metadata": {
  "kernelspec": {
   "display_name": "Python 3",
   "language": "python",
   "name": "python3"
  },
  "language_info": {
   "codemirror_mode": {
    "name": "ipython",
    "version": 3
   },
   "file_extension": ".py",
   "mimetype": "text/x-python",
   "name": "python",
   "nbconvert_exporter": "python",
   "pygments_lexer": "ipython3",
   "version": "3.8.8"
  }
 },
 "nbformat": 4,
 "nbformat_minor": 5
}
