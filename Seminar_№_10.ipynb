{
 "cells": [
  {
   "cell_type": "markdown",
   "id": "4c67cd32",
   "metadata": {},
   "source": [
    "<!--<div align=\"center\">Семинар № 2-->\n",
    "\n",
    "<div align=\"center\"><font color=#4682B4 size=4 face=\n",
    "                          \"arial black\"><em><strong>Семинар № 10</strong></em></font></div>"
   ]
  },
  {
   "cell_type": "markdown",
   "id": "231506cf",
   "metadata": {},
   "source": [
    "<div class=\"alert alert-block alert-info\"><em>\n",
    "<b>Задание. <br>Урок 10. Планирование и контроль проекта по оптимизации процессов.</b><br>\n",
    "Распишите поэтапно проект (включая smart цель, описание задач, сроков и список необходимых участников).    \n",
    "    \n",
    "Можно брать любой на выбор, как для примера:\n",
    "- Создание мобильной версии сайта;\n",
    "- Внедрение CRM;\n",
    "- Внедрение системы аналитических отчетов;\n",
    "- Разработка шаблонов документов;\n",
    "- Создание фирменного стиля для бренда.      "
   ]
  },
  {
   "cell_type": "markdown",
   "id": "ca9a2919",
   "metadata": {},
   "source": [
    "<h1 align='center'> Создание мобильной версии сайта</h1>\n",
    "\n",
    "<h2 align='center'> SMART-цель проекта</h2>\n",
    "\n",
    "+ **S**$~~~$Specific$~~~~~~~~~$***точность цели***$~~~~~~~$Разработка мобильной версии сайта<br> \t\n",
    "+ **M**$~~~$Measurable$~~~$***измеримость***$~~~~~~~~~~$Как минимум 50% текщих пользователей сайта перешли<br>$~~~~~~~~~~~~~~~~~~~~~~~~~~~~~~~~~~~~~~~~~~~~~~~~~~~~~~~~~~~$ на его мобильную версию\t\t\n",
    "+ **A**$~~~$Achiveable$~~~~~$***достижимость***$~~~~~~$Наличие ресурсов и специалистов\t\t\n",
    "+ **R**$~~~$Relevant$~~~~~~~~$***актуальность***$~~~~~~~~$Появление смартфонов с расширенными возможностями\t\t\n",
    "+ **T**$~~~$Time bound$~~~~~$***временные рамки***$~~$Сроки реализации - 2 месяца\t\t\n"
   ]
  },
  {
   "cell_type": "markdown",
   "id": "f55f92e7",
   "metadata": {},
   "source": [
    "<h2 align='center'> Состав команды проекта</h2>\n",
    "\n",
    "+ Проджект Менеджер\n",
    "+ Разработчики\n",
    "+ Тестировщик\n",
    "+ Аналитик\n",
    "+ Рекламный менеджер"
   ]
  },
  {
   "cell_type": "markdown",
   "id": "fe91fc94",
   "metadata": {},
   "source": [
    "<h2 align='center'>План-график проекта</h2>"
   ]
  },
  {
   "cell_type": "markdown",
   "id": "bb5f409c",
   "metadata": {},
   "source": [
    "<img src=\"ДЗ_10_1.png\" width=\"800\" height=\"1200\">"
   ]
  },
  {
   "cell_type": "markdown",
   "id": "3624758e",
   "metadata": {},
   "source": [
    "***"
   ]
  }
 ],
 "metadata": {
  "kernelspec": {
   "display_name": "Python 3",
   "language": "python",
   "name": "python3"
  },
  "language_info": {
   "codemirror_mode": {
    "name": "ipython",
    "version": 3
   },
   "file_extension": ".py",
   "mimetype": "text/x-python",
   "name": "python",
   "nbconvert_exporter": "python",
   "pygments_lexer": "ipython3",
   "version": "3.8.8"
  }
 },
 "nbformat": 4,
 "nbformat_minor": 5
}
